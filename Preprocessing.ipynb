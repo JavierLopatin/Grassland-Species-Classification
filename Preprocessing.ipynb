{
 "cells": [
  {
   "cell_type": "code",
   "execution_count": 19,
   "metadata": {
    "collapsed": false
   },
   "outputs": [],
   "source": [
    "import os"
   ]
  },
  {
   "cell_type": "code",
   "execution_count": 30,
   "metadata": {
    "collapsed": false
   },
   "outputs": [],
   "source": [
    "workDir = \"/media/javier/JavierLopatin/Sp_Images/Site1/Raw/\"\n",
    "\n",
    "os.chdir(workDir)"
   ]
  },
  {
   "cell_type": "code",
   "execution_count": 24,
   "metadata": {
    "collapsed": false
   },
   "outputs": [
    {
     "data": {
      "text/plain": [
       "['Adding projection +proj=utm +zone=32 +north +ellps=WGS84 +towgs84=0,0,0,0,0,0,0 +units=m +no_defs to 1907_potVal_sp_11_12-2.dat',\n",
       " 'Adding projection +proj=utm +zone=32 +north +ellps=WGS84 +towgs84=0,0,0,0,0,0,0 +units=m +no_defs to 1907_potVal_sp_11_12.dat',\n",
       " 'Adding projection +proj=utm +zone=32 +north +ellps=WGS84 +towgs84=0,0,0,0,0,0,0 +units=m +no_defs to 1907_potVal_sp_13-2.dat',\n",
       " 'Adding projection +proj=utm +zone=32 +north +ellps=WGS84 +towgs84=0,0,0,0,0,0,0 +units=m +no_defs to 1907_potVal_sp_13.dat',\n",
       " 'Adding projection +proj=utm +zone=32 +north +ellps=WGS84 +towgs84=0,0,0,0,0,0,0 +units=m +no_defs to 1907_potVal_sp_14_1-2.dat',\n",
       " 'Adding projection +proj=utm +zone=32 +north +ellps=WGS84 +towgs84=0,0,0,0,0,0,0 +units=m +no_defs to 1907_potVal_sp_14_1.dat',\n",
       " 'Adding projection +proj=utm +zone=32 +north +ellps=WGS84 +towgs84=0,0,0,0,0,0,0 +units=m +no_defs to 1907_potVal_sp_15-2.dat',\n",
       " 'Adding projection +proj=utm +zone=32 +north +ellps=WGS84 +towgs84=0,0,0,0,0,0,0 +units=m +no_defs to 1907_potVal_sp_15.dat',\n",
       " 'Adding projection +proj=utm +zone=32 +north +ellps=WGS84 +towgs84=0,0,0,0,0,0,0 +units=m +no_defs to 1907_potVal_sp_16.dat',\n",
       " 'Adding projection +proj=utm +zone=32 +north +ellps=WGS84 +towgs84=0,0,0,0,0,0,0 +units=m +no_defs to 1907_potVal_sp_16_17-2.dat',\n",
       " 'Adding projection +proj=utm +zone=32 +north +ellps=WGS84 +towgs84=0,0,0,0,0,0,0 +units=m +no_defs to 1907_potVal_sp_16_17.dat',\n",
       " 'Adding projection +proj=utm +zone=32 +north +ellps=WGS84 +towgs84=0,0,0,0,0,0,0 +units=m +no_defs to 1907_potVal_sp_6_7-2.dat',\n",
       " 'Adding projection +proj=utm +zone=32 +north +ellps=WGS84 +towgs84=0,0,0,0,0,0,0 +units=m +no_defs to 1907_potVal_sp_6_7.dat',\n",
       " 'Adding projection +proj=utm +zone=32 +north +ellps=WGS84 +towgs84=0,0,0,0,0,0,0 +units=m +no_defs to 1907_potVal_sp_8_9.dat',\n",
       " 'Adding projection +proj=utm +zone=32 +north +ellps=WGS84 +towgs84=0,0,0,0,0,0,0 +units=m +no_defs to 1907_potVal_sp_8_9_10.dat',\n",
       " 'Adding projection +proj=utm +zone=32 +north +ellps=WGS84 +towgs84=0,0,0,0,0,0,0 +units=m +no_defs to 1907_potVal_spp_1_2_3-1.dat',\n",
       " 'Adding projection +proj=utm +zone=32 +north +ellps=WGS84 +towgs84=0,0,0,0,0,0,0 +units=m +no_defs to 1907_potVal_spp_1_2_3-2.dat',\n",
       " 'Adding projection +proj=utm +zone=32 +north +ellps=WGS84 +towgs84=0,0,0,0,0,0,0 +units=m +no_defs to 1907_potVal_spp_4_1-1.dat',\n",
       " 'Adding projection +proj=utm +zone=32 +north +ellps=WGS84 +towgs84=0,0,0,0,0,0,0 +units=m +no_defs to 1907_potVal_spp_5-2.dat',\n",
       " 'Adding projection +proj=utm +zone=32 +north +ellps=WGS84 +towgs84=0,0,0,0,0,0,0 +units=m +no_defs to 1907_potVal_spp_5.dat',\n",
       " 'Adding projection +proj=utm +zone=32 +north +ellps=WGS84 +towgs84=0,0,0,0,0,0,0 +units=m +no_defs to 2007_rf_sp_11-2.dat',\n",
       " 'Adding projection +proj=utm +zone=32 +north +ellps=WGS84 +towgs84=0,0,0,0,0,0,0 +units=m +no_defs to 2007_rf_sp_11.dat',\n",
       " 'Adding projection +proj=utm +zone=32 +north +ellps=WGS84 +towgs84=0,0,0,0,0,0,0 +units=m +no_defs to 2007_rf_sp_12.dat',\n",
       " 'Adding projection +proj=utm +zone=32 +north +ellps=WGS84 +towgs84=0,0,0,0,0,0,0 +units=m +no_defs to 2007_rf_sp_13_16.dat',\n",
       " 'Adding projection +proj=utm +zone=32 +north +ellps=WGS84 +towgs84=0,0,0,0,0,0,0 +units=m +no_defs to 2007_rf_sp_15.dat',\n",
       " 'Adding projection +proj=utm +zone=32 +north +ellps=WGS84 +towgs84=0,0,0,0,0,0,0 +units=m +no_defs to 2007_rf_sp_16.dat',\n",
       " 'Adding projection +proj=utm +zone=32 +north +ellps=WGS84 +towgs84=0,0,0,0,0,0,0 +units=m +no_defs to 2007_rf_sp_1_5_8-2.dat',\n",
       " 'Adding projection +proj=utm +zone=32 +north +ellps=WGS84 +towgs84=0,0,0,0,0,0,0 +units=m +no_defs to 2007_rf_sp_1_5_8.dat',\n",
       " 'Adding projection +proj=utm +zone=32 +north +ellps=WGS84 +towgs84=0,0,0,0,0,0,0 +units=m +no_defs to 2007_rf_sp_2.dat',\n",
       " 'Adding projection +proj=utm +zone=32 +north +ellps=WGS84 +towgs84=0,0,0,0,0,0,0 +units=m +no_defs to 2007_rf_sp_3.dat',\n",
       " 'Adding projection +proj=utm +zone=32 +north +ellps=WGS84 +towgs84=0,0,0,0,0,0,0 +units=m +no_defs to 2007_rf_sp_4.dat',\n",
       " 'Adding projection +proj=utm +zone=32 +north +ellps=WGS84 +towgs84=0,0,0,0,0,0,0 +units=m +no_defs to 2007_rf_sp_5_8.dat',\n",
       " 'Adding projection +proj=utm +zone=32 +north +ellps=WGS84 +towgs84=0,0,0,0,0,0,0 +units=m +no_defs to 2007_rf_sp_6_17.dat',\n",
       " 'Adding projection +proj=utm +zone=32 +north +ellps=WGS84 +towgs84=0,0,0,0,0,0,0 +units=m +no_defs to 2007_rf_sp_7_14_16-2.dat',\n",
       " 'Adding projection +proj=utm +zone=32 +north +ellps=WGS84 +towgs84=0,0,0,0,0,0,0 +units=m +no_defs to 2007_rf_sp_7_14_16.dat',\n",
       " 'Adding projection +proj=utm +zone=32 +north +ellps=WGS84 +towgs84=0,0,0,0,0,0,0 +units=m +no_defs to plot_10-2.dat',\n",
       " 'Adding projection +proj=utm +zone=32 +north +ellps=WGS84 +towgs84=0,0,0,0,0,0,0 +units=m +no_defs to plot_10.dat',\n",
       " 'Adding projection +proj=utm +zone=32 +north +ellps=WGS84 +towgs84=0,0,0,0,0,0,0 +units=m +no_defs to plot_11.dat',\n",
       " 'Adding projection +proj=utm +zone=32 +north +ellps=WGS84 +towgs84=0,0,0,0,0,0,0 +units=m +no_defs to plot_12-2.dat',\n",
       " 'Adding projection +proj=utm +zone=32 +north +ellps=WGS84 +towgs84=0,0,0,0,0,0,0 +units=m +no_defs to plot_12.dat',\n",
       " 'Adding projection +proj=utm +zone=32 +north +ellps=WGS84 +towgs84=0,0,0,0,0,0,0 +units=m +no_defs to plot_9-2.dat',\n",
       " 'Adding projection +proj=utm +zone=32 +north +ellps=WGS84 +towgs84=0,0,0,0,0,0,0 +units=m +no_defs to plot_9.dat']"
      ]
     },
     "execution_count": 24,
     "metadata": {},
     "output_type": "execute_result"
    }
   ],
   "source": [
    "# Assign the projection to the images\n",
    "%system python Assign_projection.py \\\n",
    "    --proj4 '+proj=utm +zone=32 +north +ellps=WGS84 +towgs84=0,0,0,0,0,0,0 +units=m +no_defs' \\\n",
    "    *.dat"
   ]
  },
  {
   "cell_type": "code",
   "execution_count": null,
   "metadata": {
    "collapsed": false
   },
   "outputs": [],
   "source": [
    "# transfor ENVI .dat files to GTiff\n",
    "os.chdir(\"/home/javier/Documentos/GitHub/Herbaceous-Species-Classification/Scripts/\")\n",
    "\n",
    "# Inputs:\n",
    "# $1 is the input directory\n",
    "# $2 is the output folder\n",
    "# $3 is the input data format\n",
    "\n",
    "%system sh Convert2TIFF.sh /media/javier/JavierLopatin/Sp_Images/Site1/Raw/ \\\n",
    "                           /media/javier/JavierLopatin/Sp_Images/Site1/Raw/ \\\n",
    "                           dat \n",
    "\n",
    "os.chdir(workDir)"
   ]
  },
  {
   "cell_type": "code",
   "execution_count": 39,
   "metadata": {
    "collapsed": false
   },
   "outputs": [],
   "source": [
    "# transfor ENVI .dat files to GTiff\n",
    "os.chdir(\"/home/javier/Documentos/GitHub/Herbaceous-Species-Classification/Scripts/\")\n",
    "\n",
    "# Inputs:\n",
    "# $1 is the input directory \n",
    "# $2 is the input files extension\n",
    "# $3 is the output resolution\n",
    "\n",
    "%system sh SetResolution.sh /media/javier/JavierLopatin/Sp_Images/Site1/Raw/ \\\n",
    "                            tif \\\n",
    "                            0.0025\n",
    "\n",
    "os.chdir(workDir)"
   ]
  },
  {
   "cell_type": "code",
   "execution_count": 52,
   "metadata": {
    "collapsed": false
   },
   "outputs": [
    {
     "data": {
      "text/plain": [
       "['BrightnessNormalization_cmd.py:80: FutureWarning: The value of this property will change in version 1.0. Please see https://github.com/mapbox/rasterio/issues/86 for details.',\n",
       " '  saveImage(bn, r)',\n",
       " '/home/javier/anaconda3/lib/python3.5/site-packages/rasterio/__init__.py:94: FutureWarning: GDAL-style transforms are deprecated and will not be supported in Rasterio 1.0.',\n",
       " '  transform = guard_transform(transform)',\n",
       " 'BrightnessNormalization_cmd.py:44: RuntimeWarning: invalid value encountered in true_divide',\n",
       " '  r = img / np.sqrt( np.sum((img**2), 0) )',\n",
       " 'Normalizing 1907_potVal_spp_1_2_3-1.tif',\n",
       " 'Normalizing 1907_potVal_spp_1_2_3-2.tif',\n",
       " 'Normalizing 1907_potVal_spp_4_1-1.tif',\n",
       " 'Normalizing 1907_potVal_spp_5-2.tif',\n",
       " 'Normalizing 1907_potVal_spp_5.tif',\n",
       " 'Normalizing 1907_potVal_sp_11_12-2.tif',\n",
       " 'Normalizing 1907_potVal_sp_11_12.tif',\n",
       " 'Normalizing 1907_potVal_sp_13-2.tif',\n",
       " 'Normalizing 1907_potVal_sp_13.tif',\n",
       " 'Normalizing 1907_potVal_sp_14_1-2.tif',\n",
       " 'Normalizing 1907_potVal_sp_14_1.tif',\n",
       " 'Normalizing 1907_potVal_sp_15-2.tif',\n",
       " 'Normalizing 1907_potVal_sp_15.tif',\n",
       " 'Normalizing 1907_potVal_sp_16.tif',\n",
       " 'Normalizing 1907_potVal_sp_16_17-2.tif',\n",
       " 'Normalizing 1907_potVal_sp_16_17.tif',\n",
       " 'Normalizing 1907_potVal_sp_6_7-2.tif',\n",
       " 'Normalizing 1907_potVal_sp_6_7.tif',\n",
       " 'Normalizing 1907_potVal_sp_8_9.tif',\n",
       " 'Normalizing 1907_potVal_sp_8_9_10.tif',\n",
       " 'Normalizing 2007_rf_sp_11-2.tif',\n",
       " 'Normalizing 2007_rf_sp_11.tif',\n",
       " 'Normalizing 2007_rf_sp_12.tif',\n",
       " 'Normalizing 2007_rf_sp_13_16.tif',\n",
       " 'Normalizing 2007_rf_sp_15.tif',\n",
       " 'Normalizing 2007_rf_sp_16.tif',\n",
       " 'Normalizing 2007_rf_sp_1_5_8-2.tif',\n",
       " 'Normalizing 2007_rf_sp_1_5_8.tif',\n",
       " 'Normalizing 2007_rf_sp_2.tif',\n",
       " 'Normalizing 2007_rf_sp_3.tif',\n",
       " 'Normalizing 2007_rf_sp_4.tif',\n",
       " 'Normalizing 2007_rf_sp_5_8.tif',\n",
       " 'Normalizing 2007_rf_sp_6_17.tif',\n",
       " 'Normalizing 2007_rf_sp_7_14_16-2.tif',\n",
       " 'Normalizing 2007_rf_sp_7_14_16.tif',\n",
       " 'Normalizing plot_10-2.tif',\n",
       " 'Normalizing plot_10.tif',\n",
       " 'Normalizing plot_11.tif',\n",
       " 'Normalizing plot_12-2.tif',\n",
       " 'Normalizing plot_12.tif',\n",
       " 'Normalizing plot_9-2.tif',\n",
       " 'Normalizing plot_9.tif']"
      ]
     },
     "execution_count": 52,
     "metadata": {},
     "output_type": "execute_result"
    }
   ],
   "source": [
    "# make the Bightness Normalization\n",
    "\n",
    "%system python BrightnessNormalization_cmd.py -f tif"
   ]
  },
  {
   "cell_type": "code",
   "execution_count": 68,
   "metadata": {
    "collapsed": false
   },
   "outputs": [
    {
     "data": {
      "text/plain": [
       "['Gtk-Message: Failed to load module \"pantheon-filechooser-module\"',\n",
       " '',\n",
       " '(python:7086): Gtk-WARNING **: Imposible encontrar el motor de temas en la ruta al _modulo: «pixmap»,',\n",
       " '',\n",
       " '(python:7086): Gtk-WARNING **: Imposible encontrar el motor de temas en la ruta al _modulo: «pixmap»,',\n",
       " '',\n",
       " '(python:7086): Gtk-WARNING **: Imposible encontrar el motor de temas en la ruta al _modulo: «pixmap»,',\n",
       " '',\n",
       " '(python:7086): Gtk-WARNING **: Imposible encontrar el motor de temas en la ruta al _modulo: «pixmap»,',\n",
       " '',\n",
       " '(python:7086): Gtk-WARNING **: Imposible encontrar el motor de temas en la ruta al _modulo: «pixmap»,',\n",
       " 'Gtk-Message: Failed to load module \"canberra-gtk-module\"']"
      ]
     },
     "execution_count": 68,
     "metadata": {},
     "output_type": "execute_result"
    }
   ],
   "source": [
    "# check example image of BN\n",
    "\n",
    "%system tuiview --rgb --stddev --bands 43,31,18 BN/plot_10_BN.tif "
   ]
  },
  {
   "cell_type": "code",
   "execution_count": 69,
   "metadata": {
    "collapsed": false
   },
   "outputs": [
    {
     "data": {
      "text/plain": [
       "['ApplyMNFcoefficients.py:204: FutureWarning: The value of this property will change in version 1.0. Please see https://github.com/mapbox/rasterio/issues/86 for details.',\n",
       " '  saveMNF(mnf, r)',\n",
       " '/home/javier/anaconda3/lib/python3.5/site-packages/rasterio/__init__.py:94: FutureWarning: GDAL-style transforms are deprecated and will not be supported in Rasterio 1.0.',\n",
       " '  transform = guard_transform(transform)',\n",
       " 'ApplyMNFcoefficients.py:229: FutureWarning: The value of this property will change in version 1.0. Please see https://github.com/mapbox/rasterio/issues/86 for details.',\n",
       " '  saveMNF(mnf, r)',\n",
       " '/home/javier/anaconda3/lib/python3.5/site-packages/pysptools/noise/dnoise.py:49: RuntimeWarning: divide by zero encountered in power',\n",
       " '  S_1_2 = S**(-0.5)',\n",
       " 'Creating MNF components of plot_10.tif',\n",
       " 'Creating MNF components of 1907_potVal_spp_1_2_3-1.tif',\n",
       " 'Creating MNF components of 1907_potVal_spp_1_2_3-2.tif',\n",
       " 'Creating MNF components of 1907_potVal_spp_4_1-1.tif',\n",
       " 'Creating MNF components of 1907_potVal_spp_5-2.tif',\n",
       " 'Creating MNF components of 1907_potVal_spp_5.tif',\n",
       " 'Creating MNF components of 1907_potVal_sp_11_12-2.tif',\n",
       " 'Creating MNF components of 1907_potVal_sp_11_12.tif',\n",
       " 'Creating MNF components of 1907_potVal_sp_13-2.tif',\n",
       " 'Creating MNF components of 1907_potVal_sp_13.tif',\n",
       " 'Creating MNF components of 1907_potVal_sp_14_1-2.tif',\n",
       " 'Creating MNF components of 1907_potVal_sp_14_1.tif',\n",
       " 'Creating MNF components of 1907_potVal_sp_15-2.tif',\n",
       " 'Traceback (most recent call last):',\n",
       " '  File \"ApplyMNFcoefficients.py\", line 223, in <module>',\n",
       " '    mnf = pca.fit_transform(Y)',\n",
       " '  File \"/home/javier/anaconda3/lib/python3.5/site-packages/sklearn/decomposition/pca.py\", line 241, in fit_transform',\n",
       " '    U, S, V = self._fit(X)',\n",
       " '  File \"/home/javier/anaconda3/lib/python3.5/site-packages/sklearn/decomposition/pca.py\", line 268, in _fit',\n",
       " '    X = check_array(X)',\n",
       " '  File \"/home/javier/anaconda3/lib/python3.5/site-packages/sklearn/utils/validation.py\", line 398, in check_array',\n",
       " '    _assert_all_finite(array)',\n",
       " '  File \"/home/javier/anaconda3/lib/python3.5/site-packages/sklearn/utils/validation.py\", line 54, in _assert_all_finite',\n",
       " '    \" or a value too large for %r.\" % X.dtype)',\n",
       " \"ValueError: Input contains NaN, infinity or a value too large for dtype('float64').\"]"
      ]
     },
     "execution_count": 69,
     "metadata": {},
     "output_type": "execute_result"
    }
   ],
   "source": [
    "# Apply MNF transformation of spectra\n",
    "\n",
    "%system python ApplyMNFcoefficients.py -i  plot_10.tif -c 10"
   ]
  },
  {
   "cell_type": "code",
   "execution_count": 77,
   "metadata": {
    "collapsed": false
   },
   "outputs": [
    {
     "data": {
      "text/plain": [
       "['ApplyMNFcoefficients.py:204: FutureWarning: The value of this property will change in version 1.0. Please see https://github.com/mapbox/rasterio/issues/86 for details.',\n",
       " '  saveMNF(mnf, r)',\n",
       " 'ApplyMNFcoefficients.py:229: FutureWarning: The value of this property will change in version 1.0. Please see https://github.com/mapbox/rasterio/issues/86 for details.',\n",
       " '  saveMNF(mnf, r)',\n",
       " 'Creating MNF components of plot_10_BN.tif',\n",
       " 'Creating MNF components of 1907_potVal_sp_16_17_BN.tif',\n",
       " 'Creating MNF components of 1907_potVal_spp_1_2_3-1_BN.tif',\n",
       " 'Creating MNF components of 1907_potVal_spp_1_2_3-2_BN.tif',\n",
       " 'Creating MNF components of 1907_potVal_spp_4_1-1_BN.tif',\n",
       " 'Creating MNF components of 1907_potVal_spp_5-2_BN.tif',\n",
       " 'Creating MNF components of 1907_potVal_spp_5_BN.tif',\n",
       " 'Creating MNF components of 1907_potVal_sp_11_12-2_BN.tif',\n",
       " 'Creating MNF components of 1907_potVal_sp_11_12_BN.tif',\n",
       " 'Creating MNF components of 1907_potVal_sp_13-2_BN.tif',\n",
       " 'Creating MNF components of 1907_potVal_sp_13_BN.tif',\n",
       " 'Creating MNF components of 1907_potVal_sp_14_1-2_BN.tif',\n",
       " 'Creating MNF components of 1907_potVal_sp_14_1_BN.tif',\n",
       " 'Creating MNF components of 1907_potVal_sp_15_BN.tif',\n",
       " 'Creating MNF components of 1907_potVal_sp_16_17-2_BN.tif',\n",
       " 'Creating MNF components of 1907_potVal_sp_16_BN.tif',\n",
       " 'Creating MNF components of 1907_potVal_sp_6_7-2_BN.tif',\n",
       " 'Creating MNF components of 1907_potVal_sp_6_7_BN.tif',\n",
       " 'Creating MNF components of 1907_potVal_sp_8_9_10_BN.tif',\n",
       " 'Creating MNF components of 1907_potVal_sp_8_9_BN.tif',\n",
       " 'Creating MNF components of 2007_rf_sp_11-2_BN.tif',\n",
       " 'Creating MNF components of 2007_rf_sp_11_BN.tif',\n",
       " 'Creating MNF components of 2007_rf_sp_12_BN.tif',\n",
       " 'Creating MNF components of 2007_rf_sp_13_16_BN.tif',\n",
       " 'Creating MNF components of 2007_rf_sp_15_BN.tif',\n",
       " 'Creating MNF components of 2007_rf_sp_16_BN.tif',\n",
       " 'Creating MNF components of 2007_rf_sp_1_5_8-2_BN.tif',\n",
       " 'Creating MNF components of 2007_rf_sp_1_5_8_BN.tif',\n",
       " 'Creating MNF components of 2007_rf_sp_2_BN.tif',\n",
       " 'Creating MNF components of 2007_rf_sp_3_BN.tif',\n",
       " 'Creating MNF components of 2007_rf_sp_4_BN.tif',\n",
       " 'Creating MNF components of 2007_rf_sp_5_8_BN.tif',\n",
       " 'Creating MNF components of 2007_rf_sp_6_17_BN.tif',\n",
       " 'Creating MNF components of 2007_rf_sp_7_14_16-2_BN.tif',\n",
       " 'Creating MNF components of 2007_rf_sp_7_14_16_BN.tif',\n",
       " 'Creating MNF components of plot_10-2_BN.tif',\n",
       " 'Creating MNF components of plot_11_BN.tif',\n",
       " 'Creating MNF components of plot_12-2_BN.tif',\n",
       " 'Creating MNF components of plot_12_BN.tif',\n",
       " 'Creating MNF components of plot_9-2_BN.tif',\n",
       " 'Creating MNF components of plot_9_BN.tif']"
      ]
     },
     "execution_count": 77,
     "metadata": {},
     "output_type": "execute_result"
    }
   ],
   "source": [
    "# Apply MNF transformation of brightness normalized spectra\n",
    "folder = workDir + \"BN\"\n",
    "os.chdir(folder)\n",
    "\n",
    "%system python ApplyMNFcoefficients.py -i  plot_10_BN.tif -c 10"
   ]
  },
  {
   "cell_type": "code",
   "execution_count": 75,
   "metadata": {
    "collapsed": false
   },
   "outputs": [],
   "source": []
  },
  {
   "cell_type": "code",
   "execution_count": 76,
   "metadata": {
    "collapsed": true
   },
   "outputs": [],
   "source": [
    "%quickref"
   ]
  }
 ],
 "metadata": {
  "kernelspec": {
   "display_name": "Python 3",
   "language": "python",
   "name": "python3"
  },
  "language_info": {
   "codemirror_mode": {
    "name": "ipython",
    "version": 3
   },
   "file_extension": ".py",
   "mimetype": "text/x-python",
   "name": "python",
   "nbconvert_exporter": "python",
   "pygments_lexer": "ipython3",
   "version": "3.5.2"
  }
 },
 "nbformat": 4,
 "nbformat_minor": 0
}
