{
 "cells": [
  {
   "cell_type": "code",
   "execution_count": 3,
   "metadata": {
    "collapsed": false
   },
   "outputs": [],
   "source": [
    "import os\n",
    "from shutil import copy2"
   ]
  },
  {
   "cell_type": "code",
   "execution_count": 4,
   "metadata": {
    "collapsed": false
   },
   "outputs": [],
   "source": [
    "workDir = \"F:/Sp_Images/Site1/Raw\"\n",
    "\n",
    "os.chdir(workDir)"
   ]
  },
  {
   "cell_type": "code",
   "execution_count": 5,
   "metadata": {
    "collapsed": false
   },
   "outputs": [
    {
     "data": {
      "text/plain": [
       "'F:/Sp_Images/Site1/Raw'"
      ]
     },
     "execution_count": 5,
     "metadata": {},
     "output_type": "execute_result"
    }
   ],
   "source": [
    "workDir"
   ]
  },
  {
   "cell_type": "code",
   "execution_count": 58,
   "metadata": {
    "collapsed": false
   },
   "outputs": [
    {
     "data": {
      "text/plain": [
       "['Adding projection +proj=utm +zone=32 +north +ellps=WGS84 +towgs84=0,0,0,0,0,0,0 +units=m +no_defs to 1608_potVal_sp_17_67-2.dat',\n",
       " 'Adding projection +proj=utm +zone=32 +north +ellps=WGS84 +towgs84=0,0,0,0,0,0,0 +units=m +no_defs to 1608_potVal_sp_17_67.dat',\n",
       " 'Adding projection +proj=utm +zone=32 +north +ellps=WGS84 +towgs84=0,0,0,0,0,0,0 +units=m +no_defs to 1608_potVal_sp_19.dat',\n",
       " 'Adding projection +proj=utm +zone=32 +north +ellps=WGS84 +towgs84=0,0,0,0,0,0,0 +units=m +no_defs to 1608_potVal_sp_25_62-2.dat',\n",
       " 'Adding projection +proj=utm +zone=32 +north +ellps=WGS84 +towgs84=0,0,0,0,0,0,0 +units=m +no_defs to 1608_potVal_sp_25_62.dat',\n",
       " 'Adding projection +proj=utm +zone=32 +north +ellps=WGS84 +towgs84=0,0,0,0,0,0,0 +units=m +no_defs to 1608_potVal_sp_35_66.dat',\n",
       " 'Adding projection +proj=utm +zone=32 +north +ellps=WGS84 +towgs84=0,0,0,0,0,0,0 +units=m +no_defs to 1608_potVal_sp_38_15-2.dat',\n",
       " 'Adding projection +proj=utm +zone=32 +north +ellps=WGS84 +towgs84=0,0,0,0,0,0,0 +units=m +no_defs to 1608_potVal_sp_38_15.dat',\n",
       " 'Adding projection +proj=utm +zone=32 +north +ellps=WGS84 +towgs84=0,0,0,0,0,0,0 +units=m +no_defs to 1608_potVal_sp_48_57_61-2.dat',\n",
       " 'Adding projection +proj=utm +zone=32 +north +ellps=WGS84 +towgs84=0,0,0,0,0,0,0 +units=m +no_defs to 1608_potVal_sp_48_57_61.dat',\n",
       " 'Adding projection +proj=utm +zone=32 +north +ellps=WGS84 +towgs84=0,0,0,0,0,0,0 +units=m +no_defs to 1608_potVal_sp_4_3_6_24_55-2.dat',\n",
       " 'Adding projection +proj=utm +zone=32 +north +ellps=WGS84 +towgs84=0,0,0,0,0,0,0 +units=m +no_defs to 1608_potVal_sp_4_3_6_24_55.dat',\n",
       " 'Adding projection +proj=utm +zone=32 +north +ellps=WGS84 +towgs84=0,0,0,0,0,0,0 +units=m +no_defs to 1608_potVal_sp_56_65.dat',\n",
       " 'Adding projection +proj=utm +zone=32 +north +ellps=WGS84 +towgs84=0,0,0,0,0,0,0 +units=m +no_defs to 1608_potVal_sp_63_64-2.dat',\n",
       " 'Adding projection +proj=utm +zone=32 +north +ellps=WGS84 +towgs84=0,0,0,0,0,0,0 +units=m +no_defs to 1608_potVal_sp_63_64.dat',\n",
       " 'Adding projection +proj=utm +zone=32 +north +ellps=WGS84 +towgs84=0,0,0,0,0,0,0 +units=m +no_defs to 1608_potVal_sp_9_22_30-2.dat',\n",
       " 'Adding projection +proj=utm +zone=32 +north +ellps=WGS84 +towgs84=0,0,0,0,0,0,0 +units=m +no_defs to 1608_potVal_sp_9_22_30.dat',\n",
       " 'Adding projection +proj=utm +zone=32 +north +ellps=WGS84 +towgs84=0,0,0,0,0,0,0 +units=m +no_defs to 1608_rf_sp_17_25_64_30_3_55_61.dat',\n",
       " 'Adding projection +proj=utm +zone=32 +north +ellps=WGS84 +towgs84=0,0,0,0,0,0,0 +units=m +no_defs to 1608_rf_sp_19_35_38_67_30_24.dat',\n",
       " 'Adding projection +proj=utm +zone=32 +north +ellps=WGS84 +towgs84=0,0,0,0,0,0,0 +units=m +no_defs to 1608_rf_sp_22_35_56_65_66.dat',\n",
       " 'Adding projection +proj=utm +zone=32 +north +ellps=WGS84 +towgs84=0,0,0,0,0,0,0 +units=m +no_defs to 1608_rf_sp_4_62.dat',\n",
       " 'Adding projection +proj=utm +zone=32 +north +ellps=WGS84 +towgs84=0,0,0,0,0,0,0 +units=m +no_defs to 1608_rf_sp_6_15_48.dat',\n",
       " 'Adding projection +proj=utm +zone=32 +north +ellps=WGS84 +towgs84=0,0,0,0,0,0,0 +units=m +no_defs to 1608_rf_sp_6_57_63.dat',\n",
       " 'Adding projection +proj=utm +zone=32 +north +ellps=WGS84 +towgs84=0,0,0,0,0,0,0 +units=m +no_defs to 1608_rf_sp_9.dat',\n",
       " 'Adding projection +proj=utm +zone=32 +north +ellps=WGS84 +towgs84=0,0,0,0,0,0,0 +units=m +no_defs to plot_18.dat',\n",
       " 'Adding projection +proj=utm +zone=32 +north +ellps=WGS84 +towgs84=0,0,0,0,0,0,0 +units=m +no_defs to plot_19.dat']"
      ]
     },
     "execution_count": 58,
     "metadata": {},
     "output_type": "execute_result"
    }
   ],
   "source": [
    "# Assign the projection to the images\n",
    "copy2(\"/home/javier/Documentos/GitHub/Python-Remote-Sensing-Scripts/Assign_projection.py\",\n",
    "     workDir)\n",
    "\n",
    "%system python Assign_projection.py \\\n",
    "    --proj4 '+proj=utm +zone=32 +north +ellps=WGS84 +towgs84=0,0,0,0,0,0,0 +units=m +no_defs' \\\n",
    "    *.dat"
   ]
  },
  {
   "cell_type": "code",
   "execution_count": 66,
   "metadata": {
    "collapsed": false
   },
   "outputs": [
    {
     "data": {
      "text/plain": [
       "['Processing /media/javier/JavierLopatin/Sp_Images/Site4/Raw//1608_potVal_sp_17_67-2.dat file...',\n",
       " 'Output: /media/javier/JavierLopatin/Sp_Images/Site4/Raw//1608_potVal_sp_17_67-2.kea',\n",
       " 'Input file size is 485, 589',\n",
       " '0...10...20...30...40...50...60...70...80...90...100 - done.',\n",
       " 'Convert2TIFF.sh: 19: Convert2TIFF.sh: gdalcalcstats: not found',\n",
       " 'Processing /media/javier/JavierLopatin/Sp_Images/Site4/Raw//1608_potVal_sp_17_67.dat file...',\n",
       " 'Output: /media/javier/JavierLopatin/Sp_Images/Site4/Raw//1608_potVal_sp_17_67.kea',\n",
       " 'Input file size is 485, 483',\n",
       " '0...10...20...30...40...50...60...70...80...90...100 - done.',\n",
       " 'Convert2TIFF.sh: 19: Convert2TIFF.sh: gdalcalcstats: not found',\n",
       " 'Processing /media/javier/JavierLopatin/Sp_Images/Site4/Raw//1608_potVal_sp_19.dat file...',\n",
       " 'Output: /media/javier/JavierLopatin/Sp_Images/Site4/Raw//1608_potVal_sp_19.kea',\n",
       " 'Input file size is 485, 460',\n",
       " '0...10...20...30...40...50...60...70...80...90...100 - done.',\n",
       " 'Convert2TIFF.sh: 19: Convert2TIFF.sh: gdalcalcstats: not found',\n",
       " 'Processing /media/javier/JavierLopatin/Sp_Images/Site4/Raw//1608_potVal_sp_25_62-2.dat file...',\n",
       " 'Output: /media/javier/JavierLopatin/Sp_Images/Site4/Raw//1608_potVal_sp_25_62-2.kea',\n",
       " 'Input file size is 485, 444',\n",
       " '0...10...20...30...40...50...60...70...80...90...100 - done.',\n",
       " 'Convert2TIFF.sh: 19: Convert2TIFF.sh: gdalcalcstats: not found',\n",
       " 'Processing /media/javier/JavierLopatin/Sp_Images/Site4/Raw//1608_potVal_sp_25_62.dat file...',\n",
       " 'Output: /media/javier/JavierLopatin/Sp_Images/Site4/Raw//1608_potVal_sp_25_62.kea',\n",
       " 'Input file size is 485, 380',\n",
       " '0...10...20...30...40...50...60...70...80...90...100 - done.',\n",
       " 'Convert2TIFF.sh: 19: Convert2TIFF.sh: gdalcalcstats: not found',\n",
       " 'Processing /media/javier/JavierLopatin/Sp_Images/Site4/Raw//1608_potVal_sp_35_66.dat file...',\n",
       " 'Output: /media/javier/JavierLopatin/Sp_Images/Site4/Raw//1608_potVal_sp_35_66.kea',\n",
       " 'Input file size is 485, 608',\n",
       " '0...10...20...30...40...50...60...70...80...90...100 - done.',\n",
       " 'Convert2TIFF.sh: 19: Convert2TIFF.sh: gdalcalcstats: not found',\n",
       " 'Processing /media/javier/JavierLopatin/Sp_Images/Site4/Raw//1608_potVal_sp_38_15-2.dat file...',\n",
       " 'Output: /media/javier/JavierLopatin/Sp_Images/Site4/Raw//1608_potVal_sp_38_15-2.kea',\n",
       " 'Input file size is 485, 434',\n",
       " '0...10...20...30...40...50...60...70...80...90...100 - done.',\n",
       " 'Convert2TIFF.sh: 19: Convert2TIFF.sh: gdalcalcstats: not found',\n",
       " 'Processing /media/javier/JavierLopatin/Sp_Images/Site4/Raw//1608_potVal_sp_38_15.dat file...',\n",
       " 'Output: /media/javier/JavierLopatin/Sp_Images/Site4/Raw//1608_potVal_sp_38_15.kea',\n",
       " 'Input file size is 485, 638',\n",
       " '0...10...20...30...40...50...60...70...80...90...100 - done.',\n",
       " 'Convert2TIFF.sh: 19: Convert2TIFF.sh: gdalcalcstats: not found',\n",
       " 'Processing /media/javier/JavierLopatin/Sp_Images/Site4/Raw//1608_potVal_sp_48_57_61-2.dat file...',\n",
       " 'Output: /media/javier/JavierLopatin/Sp_Images/Site4/Raw//1608_potVal_sp_48_57_61-2.kea',\n",
       " 'Input file size is 485, 574',\n",
       " '0...10...20...30...40...50...60...70...80...90...100 - done.',\n",
       " 'Convert2TIFF.sh: 19: Convert2TIFF.sh: gdalcalcstats: not found',\n",
       " 'Processing /media/javier/JavierLopatin/Sp_Images/Site4/Raw//1608_potVal_sp_48_57_61.dat file...',\n",
       " 'Output: /media/javier/JavierLopatin/Sp_Images/Site4/Raw//1608_potVal_sp_48_57_61.kea',\n",
       " 'Input file size is 485, 531',\n",
       " '0...10...20...30...40...50...60...70...80...90...100 - done.',\n",
       " 'Convert2TIFF.sh: 19: Convert2TIFF.sh: gdalcalcstats: not found',\n",
       " 'Processing /media/javier/JavierLopatin/Sp_Images/Site4/Raw//1608_potVal_sp_4_3_6_24_55-2.dat file...',\n",
       " 'Output: /media/javier/JavierLopatin/Sp_Images/Site4/Raw//1608_potVal_sp_4_3_6_24_55-2.kea',\n",
       " 'Input file size is 485, 575',\n",
       " '0...10...20...30...40...50...60...70...80...90...100 - done.',\n",
       " 'Convert2TIFF.sh: 19: Convert2TIFF.sh: gdalcalcstats: not found',\n",
       " 'Processing /media/javier/JavierLopatin/Sp_Images/Site4/Raw//1608_potVal_sp_4_3_6_24_55.dat file...',\n",
       " 'Output: /media/javier/JavierLopatin/Sp_Images/Site4/Raw//1608_potVal_sp_4_3_6_24_55.kea',\n",
       " 'Input file size is 485, 742',\n",
       " '0...10...20...30...40...50...60...70...80...90...100 - done.',\n",
       " 'Convert2TIFF.sh: 19: Convert2TIFF.sh: gdalcalcstats: not found',\n",
       " 'Processing /media/javier/JavierLopatin/Sp_Images/Site4/Raw//1608_potVal_sp_56_65.dat file...',\n",
       " 'Output: /media/javier/JavierLopatin/Sp_Images/Site4/Raw//1608_potVal_sp_56_65.kea',\n",
       " 'Input file size is 485, 435',\n",
       " '0...10...20...30...40...50...60...70...80...90...100 - done.',\n",
       " 'Convert2TIFF.sh: 19: Convert2TIFF.sh: gdalcalcstats: not found',\n",
       " 'Processing /media/javier/JavierLopatin/Sp_Images/Site4/Raw//1608_potVal_sp_63_64-2.dat file...',\n",
       " 'Output: /media/javier/JavierLopatin/Sp_Images/Site4/Raw//1608_potVal_sp_63_64-2.kea',\n",
       " 'Input file size is 485, 682',\n",
       " '0...10...20...30...40...50...60...70...80...90...100 - done.',\n",
       " 'Convert2TIFF.sh: 19: Convert2TIFF.sh: gdalcalcstats: not found',\n",
       " 'Processing /media/javier/JavierLopatin/Sp_Images/Site4/Raw//1608_potVal_sp_63_64.dat file...',\n",
       " 'Output: /media/javier/JavierLopatin/Sp_Images/Site4/Raw//1608_potVal_sp_63_64.kea',\n",
       " 'Input file size is 485, 612',\n",
       " '0...10...20...30...40...50...60...70...80...90...100 - done.',\n",
       " 'Convert2TIFF.sh: 19: Convert2TIFF.sh: gdalcalcstats: not found',\n",
       " 'Processing /media/javier/JavierLopatin/Sp_Images/Site4/Raw//1608_potVal_sp_9_22_30-2.dat file...',\n",
       " 'Output: /media/javier/JavierLopatin/Sp_Images/Site4/Raw//1608_potVal_sp_9_22_30-2.kea',\n",
       " 'Input file size is 485, 578',\n",
       " '0...10...20...30...40...50...60...70...80...90...100 - done.',\n",
       " 'Convert2TIFF.sh: 19: Convert2TIFF.sh: gdalcalcstats: not found',\n",
       " 'Processing /media/javier/JavierLopatin/Sp_Images/Site4/Raw//1608_potVal_sp_9_22_30.dat file...',\n",
       " 'Output: /media/javier/JavierLopatin/Sp_Images/Site4/Raw//1608_potVal_sp_9_22_30.kea',\n",
       " 'Input file size is 485, 436',\n",
       " '0...10...20...30...40...50...60...70...80...90...100 - done.',\n",
       " 'Convert2TIFF.sh: 19: Convert2TIFF.sh: gdalcalcstats: not found',\n",
       " 'Processing /media/javier/JavierLopatin/Sp_Images/Site4/Raw//1608_rf_sp_17_25_64_30_3_55_61.dat file...',\n",
       " 'Output: /media/javier/JavierLopatin/Sp_Images/Site4/Raw//1608_rf_sp_17_25_64_30_3_55_61.kea',\n",
       " 'Input file size is 485, 669',\n",
       " '0...10...20...30...40...50...60...70...80...90...100 - done.',\n",
       " 'Convert2TIFF.sh: 19: Convert2TIFF.sh: gdalcalcstats: not found',\n",
       " 'Processing /media/javier/JavierLopatin/Sp_Images/Site4/Raw//1608_rf_sp_19_35_38_67_30_24.dat file...',\n",
       " 'Output: /media/javier/JavierLopatin/Sp_Images/Site4/Raw//1608_rf_sp_19_35_38_67_30_24.kea',\n",
       " 'Input file size is 485, 590',\n",
       " '0...10...20...30...40...50...60...70...80...90...100 - done.',\n",
       " 'Convert2TIFF.sh: 19: Convert2TIFF.sh: gdalcalcstats: not found',\n",
       " 'Processing /media/javier/JavierLopatin/Sp_Images/Site4/Raw//1608_rf_sp_22_35_56_65_66.dat file...',\n",
       " 'Output: /media/javier/JavierLopatin/Sp_Images/Site4/Raw//1608_rf_sp_22_35_56_65_66.kea',\n",
       " 'Input file size is 485, 401',\n",
       " '0...10...20...30...40...50...60...70...80...90...100 - done.',\n",
       " 'Convert2TIFF.sh: 19: Convert2TIFF.sh: gdalcalcstats: not found',\n",
       " 'Processing /media/javier/JavierLopatin/Sp_Images/Site4/Raw//1608_rf_sp_4_62.dat file...',\n",
       " 'Output: /media/javier/JavierLopatin/Sp_Images/Site4/Raw//1608_rf_sp_4_62.kea',\n",
       " 'Input file size is 485, 521',\n",
       " '0...10...20...30...40...50...60...70...80...90...100 - done.',\n",
       " 'Convert2TIFF.sh: 19: Convert2TIFF.sh: gdalcalcstats: not found',\n",
       " 'Processing /media/javier/JavierLopatin/Sp_Images/Site4/Raw//1608_rf_sp_6_15_48.dat file...',\n",
       " 'Output: /media/javier/JavierLopatin/Sp_Images/Site4/Raw//1608_rf_sp_6_15_48.kea',\n",
       " 'Input file size is 485, 490',\n",
       " '0...10...20...30...40...50...60...70...80...90...100 - done.',\n",
       " 'Convert2TIFF.sh: 19: Convert2TIFF.sh: gdalcalcstats: not found',\n",
       " 'Processing /media/javier/JavierLopatin/Sp_Images/Site4/Raw//1608_rf_sp_6_57_63.dat file...',\n",
       " 'Output: /media/javier/JavierLopatin/Sp_Images/Site4/Raw//1608_rf_sp_6_57_63.kea',\n",
       " 'Input file size is 485, 545',\n",
       " '0...10...20...30...40...50...60...70...80...90...100 - done.',\n",
       " 'Convert2TIFF.sh: 19: Convert2TIFF.sh: gdalcalcstats: not found',\n",
       " 'Processing /media/javier/JavierLopatin/Sp_Images/Site4/Raw//1608_rf_sp_9.dat file...',\n",
       " 'Output: /media/javier/JavierLopatin/Sp_Images/Site4/Raw//1608_rf_sp_9.kea',\n",
       " 'Input file size is 485, 401',\n",
       " '0...10...20...30...40...50...60...70...80...90...100 - done.',\n",
       " 'Convert2TIFF.sh: 19: Convert2TIFF.sh: gdalcalcstats: not found',\n",
       " 'Processing /media/javier/JavierLopatin/Sp_Images/Site4/Raw//plot_18.dat file...',\n",
       " 'Output: /media/javier/JavierLopatin/Sp_Images/Site4/Raw//plot_18.kea',\n",
       " 'Input file size is 485, 732',\n",
       " '0...10...20...30...40...50...60...70...80...90...100 - done.',\n",
       " 'Convert2TIFF.sh: 19: Convert2TIFF.sh: gdalcalcstats: not found',\n",
       " 'Processing /media/javier/JavierLopatin/Sp_Images/Site4/Raw//plot_19.dat file...',\n",
       " 'Output: /media/javier/JavierLopatin/Sp_Images/Site4/Raw//plot_19.kea',\n",
       " 'Input file size is 485, 620',\n",
       " '0...10...20...30...40...50...60...70...80...90...100 - done.',\n",
       " 'Convert2TIFF.sh: 19: Convert2TIFF.sh: gdalcalcstats: not found']"
      ]
     },
     "execution_count": 66,
     "metadata": {},
     "output_type": "execute_result"
    }
   ],
   "source": [
    "# transfor ENVI .dat files to GTiff\n",
    "copy2(\"/home/javier/Documentos/GitHub/Herbaceous-Species-Classification/Scripts/Convert2TIFF.sh\",\n",
    "     workDir)\n",
    "\n",
    "os.chdir(\"/home/javier/Documentos/GitHub/Herbaceous-Species-Classification/Scripts/\")\n",
    "\n",
    "# Inputs:\n",
    "# $1 is the input directory\n",
    "# $2 is the output folder\n",
    "# $3 is the input data format\n",
    "\n",
    "%system sh Convert2TIFF.sh /media/javier/JavierLopatin/Sp_Images/Site4/Raw/ \\\n",
    "                           /media/javier/JavierLopatin/Sp_Images/Site4/Raw/ \\\n",
    "                           dat "
   ]
  },
  {
   "cell_type": "code",
   "execution_count": 68,
   "metadata": {
    "collapsed": false
   },
   "outputs": [
    {
     "data": {
      "text/plain": [
       "['Processing /media/javier/JavierLopatin/Sp_Images/Site4/Raw//1608_potVal_sp_17_67-2.tif file...',\n",
       " \"python: can't open file 'gdal_edit.py': [Errno 2] No such file or directory\",\n",
       " 'Processing /media/javier/JavierLopatin/Sp_Images/Site4/Raw//1608_potVal_sp_17_67.tif file...',\n",
       " \"python: can't open file 'gdal_edit.py': [Errno 2] No such file or directory\",\n",
       " 'Processing /media/javier/JavierLopatin/Sp_Images/Site4/Raw//1608_potVal_sp_19.tif file...',\n",
       " \"python: can't open file 'gdal_edit.py': [Errno 2] No such file or directory\",\n",
       " 'Processing /media/javier/JavierLopatin/Sp_Images/Site4/Raw//1608_potVal_sp_25_62-2.tif file...',\n",
       " \"python: can't open file 'gdal_edit.py': [Errno 2] No such file or directory\",\n",
       " 'Processing /media/javier/JavierLopatin/Sp_Images/Site4/Raw//1608_potVal_sp_25_62.tif file...',\n",
       " \"python: can't open file 'gdal_edit.py': [Errno 2] No such file or directory\",\n",
       " 'Processing /media/javier/JavierLopatin/Sp_Images/Site4/Raw//1608_potVal_sp_35_66.tif file...',\n",
       " \"python: can't open file 'gdal_edit.py': [Errno 2] No such file or directory\",\n",
       " 'Processing /media/javier/JavierLopatin/Sp_Images/Site4/Raw//1608_potVal_sp_38_15-2.tif file...',\n",
       " \"python: can't open file 'gdal_edit.py': [Errno 2] No such file or directory\",\n",
       " 'Processing /media/javier/JavierLopatin/Sp_Images/Site4/Raw//1608_potVal_sp_38_15.tif file...',\n",
       " \"python: can't open file 'gdal_edit.py': [Errno 2] No such file or directory\",\n",
       " 'Processing /media/javier/JavierLopatin/Sp_Images/Site4/Raw//1608_potVal_sp_48_57_61-2.tif file...',\n",
       " \"python: can't open file 'gdal_edit.py': [Errno 2] No such file or directory\",\n",
       " 'Processing /media/javier/JavierLopatin/Sp_Images/Site4/Raw//1608_potVal_sp_48_57_61.tif file...',\n",
       " \"python: can't open file 'gdal_edit.py': [Errno 2] No such file or directory\",\n",
       " 'Processing /media/javier/JavierLopatin/Sp_Images/Site4/Raw//1608_potVal_sp_4_3_6_24_55-2.tif file...',\n",
       " \"python: can't open file 'gdal_edit.py': [Errno 2] No such file or directory\",\n",
       " 'Processing /media/javier/JavierLopatin/Sp_Images/Site4/Raw//1608_potVal_sp_4_3_6_24_55.tif file...',\n",
       " \"python: can't open file 'gdal_edit.py': [Errno 2] No such file or directory\",\n",
       " 'Processing /media/javier/JavierLopatin/Sp_Images/Site4/Raw//1608_potVal_sp_56_65.tif file...',\n",
       " \"python: can't open file 'gdal_edit.py': [Errno 2] No such file or directory\",\n",
       " 'Processing /media/javier/JavierLopatin/Sp_Images/Site4/Raw//1608_potVal_sp_63_64-2.tif file...',\n",
       " \"python: can't open file 'gdal_edit.py': [Errno 2] No such file or directory\",\n",
       " 'Processing /media/javier/JavierLopatin/Sp_Images/Site4/Raw//1608_potVal_sp_63_64.tif file...',\n",
       " \"python: can't open file 'gdal_edit.py': [Errno 2] No such file or directory\",\n",
       " 'Processing /media/javier/JavierLopatin/Sp_Images/Site4/Raw//1608_potVal_sp_9_22_30-2.tif file...',\n",
       " \"python: can't open file 'gdal_edit.py': [Errno 2] No such file or directory\",\n",
       " 'Processing /media/javier/JavierLopatin/Sp_Images/Site4/Raw//1608_potVal_sp_9_22_30.tif file...',\n",
       " \"python: can't open file 'gdal_edit.py': [Errno 2] No such file or directory\",\n",
       " 'Processing /media/javier/JavierLopatin/Sp_Images/Site4/Raw//1608_rf_sp_17_25_64_30_3_55_61.tif file...',\n",
       " \"python: can't open file 'gdal_edit.py': [Errno 2] No such file or directory\",\n",
       " 'Processing /media/javier/JavierLopatin/Sp_Images/Site4/Raw//1608_rf_sp_19_35_38_67_30_24.tif file...',\n",
       " \"python: can't open file 'gdal_edit.py': [Errno 2] No such file or directory\",\n",
       " 'Processing /media/javier/JavierLopatin/Sp_Images/Site4/Raw//1608_rf_sp_22_35_56_65_66.tif file...',\n",
       " \"python: can't open file 'gdal_edit.py': [Errno 2] No such file or directory\",\n",
       " 'Processing /media/javier/JavierLopatin/Sp_Images/Site4/Raw//1608_rf_sp_4_62.tif file...',\n",
       " \"python: can't open file 'gdal_edit.py': [Errno 2] No such file or directory\",\n",
       " 'Processing /media/javier/JavierLopatin/Sp_Images/Site4/Raw//1608_rf_sp_6_15_48.tif file...',\n",
       " \"python: can't open file 'gdal_edit.py': [Errno 2] No such file or directory\",\n",
       " 'Processing /media/javier/JavierLopatin/Sp_Images/Site4/Raw//1608_rf_sp_6_57_63.tif file...',\n",
       " \"python: can't open file 'gdal_edit.py': [Errno 2] No such file or directory\",\n",
       " 'Processing /media/javier/JavierLopatin/Sp_Images/Site4/Raw//1608_rf_sp_9.tif file...',\n",
       " \"python: can't open file 'gdal_edit.py': [Errno 2] No such file or directory\",\n",
       " 'Processing /media/javier/JavierLopatin/Sp_Images/Site4/Raw//plot_18.tif file...',\n",
       " \"python: can't open file 'gdal_edit.py': [Errno 2] No such file or directory\",\n",
       " 'Processing /media/javier/JavierLopatin/Sp_Images/Site4/Raw//plot_19.tif file...',\n",
       " \"python: can't open file 'gdal_edit.py': [Errno 2] No such file or directory\"]"
      ]
     },
     "execution_count": 68,
     "metadata": {},
     "output_type": "execute_result"
    }
   ],
   "source": [
    "# Set real resolution to the images\n",
    "copy2(\"/home/javier/Documentos/GitHub/Herbaceous-Species-Classification/Scripts/SetResolution.sh\",\n",
    "     workDir)\n",
    "\n",
    "os.chdir(\"/home/javier/Documentos/GitHub/Herbaceous-Species-Classification/Scripts/\")\n",
    "\n",
    "# Inputs:\n",
    "# $1 is the input directory \n",
    "# $2 is the input files extension\n",
    "# $3 is the output resolution\n",
    "\n",
    "%system sh SetResolution.sh /media/javier/JavierLopatin/Sp_Images/Site4/Raw/ \\\n",
    "                            tif \\\n",
    "                            0.0025"
   ]
  },
  {
   "cell_type": "code",
   "execution_count": 69,
   "metadata": {
    "collapsed": false
   },
   "outputs": [
    {
     "data": {
      "text/plain": [
       "['BrightnessNormalization_cmd.py:80: FutureWarning: The value of this property will change in version 1.0. Please see https://github.com/mapbox/rasterio/issues/86 for details.',\n",
       " '  saveImage(bn, r)',\n",
       " 'Normalizing 1608_potVal_sp_17_67-2.tif',\n",
       " 'Normalizing 1608_potVal_sp_17_67.tif',\n",
       " 'Normalizing 1608_potVal_sp_19.tif',\n",
       " 'Normalizing 1608_potVal_sp_25_62-2.tif',\n",
       " 'Normalizing 1608_potVal_sp_4_3_6_24_55.tif',\n",
       " 'Normalizing 1608_potVal_sp_56_65.tif',\n",
       " 'Normalizing 1608_potVal_sp_63_64-2.tif',\n",
       " 'Normalizing 1608_potVal_sp_25_62.tif',\n",
       " 'Normalizing 1608_potVal_sp_35_66.tif',\n",
       " 'Normalizing 1608_potVal_sp_38_15-2.tif',\n",
       " 'Normalizing 1608_potVal_sp_38_15.tif',\n",
       " 'Normalizing 1608_potVal_sp_48_57_61-2.tif',\n",
       " 'Normalizing 1608_potVal_sp_48_57_61.tif',\n",
       " 'Normalizing 1608_potVal_sp_4_3_6_24_55-2.tif',\n",
       " 'Normalizing 1608_potVal_sp_63_64.tif',\n",
       " 'Normalizing 1608_potVal_sp_9_22_30-2.tif',\n",
       " 'Normalizing 1608_potVal_sp_9_22_30.tif',\n",
       " 'Normalizing 1608_rf_sp_17_25_64_30_3_55_61.tif',\n",
       " 'Normalizing 1608_rf_sp_19_35_38_67_30_24.tif',\n",
       " 'Normalizing 1608_rf_sp_22_35_56_65_66.tif',\n",
       " 'Normalizing 1608_rf_sp_4_62.tif',\n",
       " 'Normalizing 1608_rf_sp_6_15_48.tif',\n",
       " 'Normalizing 1608_rf_sp_6_57_63.tif',\n",
       " 'Normalizing 1608_rf_sp_9.tif',\n",
       " 'Normalizing plot_18.tif',\n",
       " 'Normalizing plot_19.tif']"
      ]
     },
     "execution_count": 69,
     "metadata": {},
     "output_type": "execute_result"
    }
   ],
   "source": [
    "# make the Bightness Normalization\n",
    "copy2(\"/home/javier/Documentos/GitHub/Python-Remote-Sensing-Scripts/BrightnessNormalization_cmd.py\",\n",
    "     workDir)\n",
    "\n",
    "os.chdir(workDir)\n",
    "\n",
    "%system python BrightnessNormalization_cmd.py"
   ]
  },
  {
   "cell_type": "code",
   "execution_count": 70,
   "metadata": {
    "collapsed": false
   },
   "outputs": [
    {
     "data": {
      "text/plain": [
       "['ApplyMNFcoefficients.py:204: FutureWarning: The value of this property will change in version 1.0. Please see https://github.com/mapbox/rasterio/issues/86 for details.',\n",
       " '  saveMNF(mnf, r)',\n",
       " 'ApplyMNFcoefficients.py:229: FutureWarning: The value of this property will change in version 1.0. Please see https://github.com/mapbox/rasterio/issues/86 for details.',\n",
       " '  saveMNF(mnf, r)',\n",
       " 'Creating MNF components of plot_18.tif',\n",
       " 'Creating MNF components of 1608_potVal_sp_17_67-2.tif',\n",
       " 'Creating MNF components of 1608_potVal_sp_17_67.tif',\n",
       " 'Creating MNF components of 1608_potVal_sp_19.tif',\n",
       " 'Creating MNF components of 1608_potVal_sp_25_62-2.tif',\n",
       " 'Creating MNF components of 1608_potVal_sp_4_3_6_24_55.tif',\n",
       " 'Creating MNF components of 1608_potVal_sp_56_65.tif',\n",
       " 'Creating MNF components of 1608_potVal_sp_63_64-2.tif',\n",
       " 'Creating MNF components of 1608_potVal_sp_25_62.tif',\n",
       " 'Creating MNF components of 1608_potVal_sp_35_66.tif',\n",
       " 'Creating MNF components of 1608_potVal_sp_38_15-2.tif',\n",
       " 'Creating MNF components of 1608_potVal_sp_38_15.tif',\n",
       " 'Creating MNF components of 1608_potVal_sp_48_57_61-2.tif',\n",
       " 'Creating MNF components of 1608_potVal_sp_48_57_61.tif',\n",
       " 'Creating MNF components of 1608_potVal_sp_4_3_6_24_55-2.tif',\n",
       " 'Creating MNF components of 1608_potVal_sp_63_64.tif',\n",
       " 'Creating MNF components of 1608_potVal_sp_9_22_30-2.tif',\n",
       " 'Creating MNF components of 1608_potVal_sp_9_22_30.tif',\n",
       " 'Creating MNF components of 1608_rf_sp_17_25_64_30_3_55_61.tif',\n",
       " 'Creating MNF components of 1608_rf_sp_19_35_38_67_30_24.tif',\n",
       " 'Creating MNF components of 1608_rf_sp_22_35_56_65_66.tif',\n",
       " 'Creating MNF components of 1608_rf_sp_4_62.tif',\n",
       " 'Creating MNF components of 1608_rf_sp_6_15_48.tif',\n",
       " 'Creating MNF components of 1608_rf_sp_6_57_63.tif',\n",
       " 'Creating MNF components of 1608_rf_sp_9.tif',\n",
       " 'Creating MNF components of plot_19.tif']"
      ]
     },
     "execution_count": 70,
     "metadata": {},
     "output_type": "execute_result"
    }
   ],
   "source": [
    "# Apply MNF transformation of spectra\n",
    "copy2(\"/home/javier/Documentos/GitHub/Python-Remote-Sensing-Scripts/ApplyMNFcoefficients.py\",\n",
    "     workDir)\n",
    "\n",
    "os.chdir(workDir)\n",
    "\n",
    "%system python ApplyMNFcoefficients.py -i  plot_18.tif -c 10"
   ]
  },
  {
   "cell_type": "code",
   "execution_count": 6,
   "metadata": {
    "collapsed": false
   },
   "outputs": [
    {
     "ename": "FileNotFoundError",
     "evalue": "[WinError 2] Das System kann die angegebene Datei nicht finden: 'F:/Sp_Images/Site1/RawBN'",
     "output_type": "error",
     "traceback": [
      "\u001b[1;31m---------------------------------------------------------------------------\u001b[0m",
      "\u001b[1;31mFileNotFoundError\u001b[0m                         Traceback (most recent call last)",
      "\u001b[1;32m<ipython-input-6-b48735d9a3f8>\u001b[0m in \u001b[0;36m<module>\u001b[1;34m()\u001b[0m\n\u001b[0;32m      1\u001b[0m \u001b[1;31m# Apply MNF transformation of brightness normalized spectra\u001b[0m\u001b[1;33m\u001b[0m\u001b[1;33m\u001b[0m\u001b[0m\n\u001b[0;32m      2\u001b[0m \u001b[0mfolder\u001b[0m \u001b[1;33m=\u001b[0m \u001b[0mworkDir\u001b[0m \u001b[1;33m+\u001b[0m \u001b[1;34m\"BN\"\u001b[0m\u001b[1;33m\u001b[0m\u001b[0m\n\u001b[1;32m----> 3\u001b[1;33m \u001b[0mos\u001b[0m\u001b[1;33m.\u001b[0m\u001b[0mchdir\u001b[0m\u001b[1;33m(\u001b[0m\u001b[0mfolder\u001b[0m\u001b[1;33m)\u001b[0m\u001b[1;33m\u001b[0m\u001b[0m\n\u001b[0m\u001b[0;32m      4\u001b[0m \u001b[1;33m\u001b[0m\u001b[0m\n\u001b[0;32m      5\u001b[0m copy2(\"/home/javier/Documentos/GitHub/Python-Remote-Sensing-Scripts/ApplyMNFcoefficients.py\",\n",
      "\u001b[1;31mFileNotFoundError\u001b[0m: [WinError 2] Das System kann die angegebene Datei nicht finden: 'F:/Sp_Images/Site1/RawBN'"
     ]
    }
   ],
   "source": [
    "# Apply MNF transformation of brightness normalized spectra\n",
    "folder = workDir + \"BN\"\n",
    "os.chdir(folder)\n",
    "\n",
    "copy2(\"/home/javier/Documentos/GitHub/Python-Remote-Sensing-Scripts/ApplyMNFcoefficients.py\",\n",
    "     folder)\n",
    "\n",
    "%system python ApplyMNFcoefficients.py -i  plot_18_BN.tif -c 10"
   ]
  },
  {
   "cell_type": "code",
   "execution_count": null,
   "metadata": {
    "collapsed": false
   },
   "outputs": [],
   "source": []
  },
  {
   "cell_type": "code",
   "execution_count": 76,
   "metadata": {
    "collapsed": true
   },
   "outputs": [],
   "source": [
    "%quickref"
   ]
  }
 ],
 "metadata": {
  "kernelspec": {
   "display_name": "Python 3",
   "language": "python",
   "name": "python3"
  },
  "language_info": {
   "codemirror_mode": {
    "name": "ipython",
    "version": 3
   },
   "file_extension": ".py",
   "mimetype": "text/x-python",
   "name": "python",
   "nbconvert_exporter": "python",
   "pygments_lexer": "ipython3",
   "version": "3.5.1"
  }
 },
 "nbformat": 4,
 "nbformat_minor": 0
}
